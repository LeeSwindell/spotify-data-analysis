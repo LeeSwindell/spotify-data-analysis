{
 "cells": [
  {
   "cell_type": "code",
   "execution_count": 33,
   "id": "763b6bc5",
   "metadata": {},
   "outputs": [],
   "source": [
    "import pandas as pd\n",
    "import spotipy\n",
    "from spotipy.oauth2 import SpotifyClientCredentials\n",
    "\n",
    "#these were from the spotify app. the code won't run after changing these to upload to github publicly\n",
    "cid = 'ClientID'\n",
    "secret = 'ClientSecret'\n",
    "\n",
    "auth_manager = SpotifyClientCredentials(client_id=cid, client_secret=secret) \n",
    "sp = spotipy.Spotify(auth_manager=auth_manager, requests_timeout=60)"
   ]
  },
  {
   "cell_type": "code",
   "execution_count": 34,
   "id": "7e0cb08d",
   "metadata": {},
   "outputs": [],
   "source": [
    "#the limit is hard-capped at 50, I have ~60 playlists\n",
    "playlists1 = sp.user_playlists('ouroborousmv',limit=50, offset=0)\n",
    "playlists2 = sp.user_playlists('ouroborousmv',limit=50, offset=50)"
   ]
  },
  {
   "cell_type": "code",
   "execution_count": 35,
   "id": "f26a91dd",
   "metadata": {},
   "outputs": [],
   "source": [
    "playlist_ids = []\n",
    "for i, item in enumerate(playlists1['items']):\n",
    "    #print(\"%d %s\" % (63-i, item['name']))\n",
    "    playlist_ids.append(item['id'])\n",
    "\n",
    "for i, item in enumerate(playlists2['items']):\n",
    "    #print(\"%d %s\" % (13-i, item['name']))\n",
    "    playlist_ids.append(item['id'])"
   ]
  },
  {
   "cell_type": "code",
   "execution_count": 36,
   "id": "89f2e4e7",
   "metadata": {},
   "outputs": [],
   "source": [
    "#so the playlists number increases in chronological order.\n",
    "playlist_ids = playlist_ids[::-1]"
   ]
  },
  {
   "cell_type": "code",
   "execution_count": 67,
   "id": "70260b84",
   "metadata": {},
   "outputs": [],
   "source": [
    "def featList(f):\n",
    "    res = [f['danceability'], f['energy'], f['key'], f['loudness'], f['mode'], f['speechiness'], f['acousticness'],\n",
    "           f['instrumentalness'], f['liveness'], f['valence'], f['tempo'], f['duration_ms'], f['time_signature']]\n",
    "    return res"
   ]
  },
  {
   "cell_type": "code",
   "execution_count": 96,
   "id": "062b5478",
   "metadata": {},
   "outputs": [],
   "source": [
    "col_names = {0:'track_id', 1:'name', 2:'artist', 3:'danceability', 4:'energy', 5:'key', 6:'loudness', 7:'mode',\n",
    "             8:'speechiness', 9:'acousticness', 10:'instrumentalness', 11:'liveness', 12:'valence',\n",
    "             13:'tempo', 14:'duration_ms', 15:'time_sig'}"
   ]
  },
  {
   "cell_type": "code",
   "execution_count": 100,
   "id": "f5e9e6cd",
   "metadata": {},
   "outputs": [],
   "source": [
    "#Picking out the bits of data that spotify sends with what I actually want,\n",
    "#storing to a python list, to be converted later to pandas dataframe.\n",
    "#Apparently, it's inefficient to append rows to a pandas dataframe since it remakes the entire thing.\n",
    "\n",
    "data = []\n",
    "for pl_id in playlist_ids:    \n",
    "    new_playlist = pd.DataFrame(sp.playlist_items(pl_id))\n",
    "    for i in range(len(new_playlist)):\n",
    "        new_id = new_playlist['items'][i]['track']['id']\n",
    "        if new_id == None: continue\n",
    "        new_track_name = new_playlist['items'][i]['track']['name']\n",
    "        new_artist_name = new_playlist['items'][i]['track']['artists'][0]['name']\n",
    "        new_feat = featList(sp.audio_features(new_id)[0])\n",
    "        new_row = [new_id, new_track_name, new_artist_name]\n",
    "        for ele in new_feat: new_row.append(ele)\n",
    "        data.append(new_row)"
   ]
  },
  {
   "cell_type": "code",
   "execution_count": 101,
   "id": "35f21fb6",
   "metadata": {},
   "outputs": [],
   "source": [
    "df = pd.DataFrame(data)"
   ]
  },
  {
   "cell_type": "code",
   "execution_count": 103,
   "id": "c78538c5",
   "metadata": {
    "scrolled": true
   },
   "outputs": [],
   "source": [
    "final_df = df.rename(columns=col_names)"
   ]
  },
  {
   "cell_type": "code",
   "execution_count": 118,
   "id": "808a99e5",
   "metadata": {
    "scrolled": true
   },
   "outputs": [],
   "source": [
    "#forgot to get the time the song was added to playlist\n",
    "date_added = []\n",
    "for pl_id in playlist_ids:    \n",
    "    new_playlist = pd.DataFrame(sp.playlist_items(pl_id))\n",
    "    for i in range(len(new_playlist)):\n",
    "        new_id = new_playlist['items'][i]['track']['id'] #so the dates line up with the rest of the data\n",
    "        if new_id == None: continue\n",
    "        date_added.append(new_playlist['items'][i]['added_at'])"
   ]
  },
  {
   "cell_type": "code",
   "execution_count": 120,
   "id": "c90eb791",
   "metadata": {},
   "outputs": [],
   "source": [
    "#added a new song to last playlist... removing it from date_added\n",
    "date_added.pop()\n",
    "\n",
    "#adding column to the rest of the dataframe\n",
    "final_df['date_added'] = date_added"
   ]
  },
  {
   "cell_type": "code",
   "execution_count": 122,
   "id": "dacc07c3",
   "metadata": {},
   "outputs": [],
   "source": [
    "final_df.to_csv('spotify_data.csv')"
   ]
  }
 ],
 "metadata": {
  "kernelspec": {
   "display_name": "scipytest",
   "language": "python",
   "name": "scipytest"
  },
  "language_info": {
   "codemirror_mode": {
    "name": "ipython",
    "version": 3
   },
   "file_extension": ".py",
   "mimetype": "text/x-python",
   "name": "python",
   "nbconvert_exporter": "python",
   "pygments_lexer": "ipython3",
   "version": "3.9.7"
  }
 },
 "nbformat": 4,
 "nbformat_minor": 5
}
